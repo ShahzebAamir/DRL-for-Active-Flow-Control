{
 "cells": [
  {
   "cell_type": "code",
   "execution_count": null,
   "metadata": {},
   "outputs": [],
   "source": [
    "from numpy import genfromtxt\n",
    "import matplotlib.pyplot as plt"
   ]
  },
  {
   "cell_type": "code",
   "execution_count": null,
   "metadata": {},
   "outputs": [],
   "source": [
    "name_save = \"./saved_models/output.csv\"\n",
    "Output_data = genfromtxt(name_save, delimiter=';')"
   ]
  },
  {
   "cell_type": "code",
   "execution_count": null,
   "metadata": {},
   "outputs": [],
   "source": [
    "pho = 1\n",
    "Um = 1.5\n",
    "D = 0.1\n",
    "\n",
    "Normalize = -2.0 / pho / (2*Um/3)**2/D"
   ]
  },
  {
   "cell_type": "code",
   "execution_count": null,
   "metadata": {},
   "outputs": [],
   "source": [
    "Avg_drag_over_episodes = Normalize*Output_data[1:250,1]"
   ]
  },
  {
   "cell_type": "code",
   "execution_count": null,
   "metadata": {},
   "outputs": [],
   "source": [
    "plt.figure()\n",
    "plt.plot(Avg_drag_over_episodes, label=\"mean drag w/ control\", linewidth=1.2)\n",
    "plt.plot([0,250],[Normalize*-0.159,Normalize*-0.159], label=\"mean drag no control\", linewidth=2.5, linestyle=\"--\")\n",
    "plt.legend(loc=2)\n",
    "plt.ylabel(\"normalize avg drag Cd\")\n",
    "plt.xlabel(\"Episodes\")\n",
    "plt.tight_layout()\n",
    "plt.savefig('drag_over_episodes')"
   ]
  },
  {
   "cell_type": "code",
   "execution_count": null,
   "metadata": {},
   "outputs": [],
   "source": []
  }
 ],
 "metadata": {
  "kernelspec": {
   "display_name": "Python 3",
   "language": "python",
   "name": "python3"
  },
  "language_info": {
   "codemirror_mode": {
    "name": "ipython",
    "version": 3
   },
   "file_extension": ".py",
   "mimetype": "text/x-python",
   "name": "python",
   "nbconvert_exporter": "python",
   "pygments_lexer": "ipython3",
   "version": "3.6.9"
  }
 },
 "nbformat": 4,
 "nbformat_minor": 4
}
